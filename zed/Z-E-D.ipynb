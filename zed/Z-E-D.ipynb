{
 "cells": [
  {
   "cell_type": "code",
   "execution_count": 1,
   "metadata": {},
   "outputs": [],
   "source": [
    "import numpy as np"
   ]
  },
  {
   "cell_type": "code",
   "execution_count": 2,
   "metadata": {},
   "outputs": [],
   "source": [
    "B = 0.7\n",
    "M = np.array([[0.0, 0.0, 0.0],\n",
    "              [0.5, 0.0, 0.0],\n",
    "              [0.5, 1.0, 1.0]])"
   ]
  },
  {
   "cell_type": "code",
   "execution_count": 3,
   "metadata": {},
   "outputs": [],
   "source": [
    "def page_rank(M, tax, n_iter=100, E=None):\n",
    "    \"\"\"\n",
    "    Parameters\n",
    "    ---------\n",
    "        M : array of shape=(n, n), connectivity matrix.\n",
    "        tax : amound of tax, for example 0.8\n",
    "        E : epsilon, min difference between previous and current rank vector to proceed the next iteration\n",
    "    \"\"\"\n",
    "    r = np.ones(shape=M.shape[0]) / M.shape[0]\n",
    "    r_new = np.zeros_like(r)\n",
    "    e = np.ones_like(r) / M.shape[0]\n",
    "    \n",
    "    for i in range(n_iter):\n",
    "        r_new = tax * M@r + (1-tax) * e\n",
    "        print(f'After iter {i+1}: {r}')\n",
    "        \n",
    "        # check convergance\n",
    "        if E is not None:\n",
    "            if len(np.nonzero(r - r_new < E)[0]) == len(r):\n",
    "                print(f'Converged after {i+1} iterations')\n",
    "                break\n",
    "        \n",
    "        r = r_new\n",
    "        \n",
    "    return r"
   ]
  },
  {
   "cell_type": "code",
   "execution_count": 4,
   "metadata": {},
   "outputs": [
    {
     "name": "stdout",
     "output_type": "stream",
     "text": [
      "After iter 1: [0.33333333 0.33333333 0.33333333]\n",
      "After iter 2: [0.         0.16666667 0.83333333]\n",
      "After iter 3: [0. 0. 1.]\n",
      "After iter 4: [0. 0. 1.]\n",
      "After iter 5: [0. 0. 1.]\n",
      "After iter 6: [0. 0. 1.]\n",
      "After iter 7: [0. 0. 1.]\n",
      "After iter 8: [0. 0. 1.]\n",
      "After iter 9: [0. 0. 1.]\n",
      "After iter 10: [0. 0. 1.]\n",
      "After iter 11: [0. 0. 1.]\n",
      "After iter 12: [0. 0. 1.]\n",
      "After iter 13: [0. 0. 1.]\n",
      "After iter 14: [0. 0. 1.]\n",
      "After iter 15: [0. 0. 1.]\n",
      "After iter 16: [0. 0. 1.]\n",
      "After iter 17: [0. 0. 1.]\n",
      "After iter 18: [0. 0. 1.]\n",
      "After iter 19: [0. 0. 1.]\n",
      "After iter 20: [0. 0. 1.]\n",
      "After iter 21: [0. 0. 1.]\n",
      "After iter 22: [0. 0. 1.]\n",
      "After iter 23: [0. 0. 1.]\n",
      "After iter 24: [0. 0. 1.]\n",
      "After iter 25: [0. 0. 1.]\n",
      "After iter 26: [0. 0. 1.]\n",
      "After iter 27: [0. 0. 1.]\n",
      "After iter 28: [0. 0. 1.]\n",
      "After iter 29: [0. 0. 1.]\n",
      "After iter 30: [0. 0. 1.]\n",
      "After iter 31: [0. 0. 1.]\n",
      "After iter 32: [0. 0. 1.]\n",
      "After iter 33: [0. 0. 1.]\n",
      "After iter 34: [0. 0. 1.]\n",
      "After iter 35: [0. 0. 1.]\n",
      "After iter 36: [0. 0. 1.]\n",
      "After iter 37: [0. 0. 1.]\n",
      "After iter 38: [0. 0. 1.]\n",
      "After iter 39: [0. 0. 1.]\n",
      "After iter 40: [0. 0. 1.]\n",
      "After iter 41: [0. 0. 1.]\n",
      "After iter 42: [0. 0. 1.]\n",
      "After iter 43: [0. 0. 1.]\n",
      "After iter 44: [0. 0. 1.]\n",
      "After iter 45: [0. 0. 1.]\n",
      "After iter 46: [0. 0. 1.]\n",
      "After iter 47: [0. 0. 1.]\n",
      "After iter 48: [0. 0. 1.]\n",
      "After iter 49: [0. 0. 1.]\n",
      "After iter 50: [0. 0. 1.]\n",
      "After iter 51: [0. 0. 1.]\n",
      "After iter 52: [0. 0. 1.]\n",
      "After iter 53: [0. 0. 1.]\n",
      "After iter 54: [0. 0. 1.]\n",
      "After iter 55: [0. 0. 1.]\n",
      "After iter 56: [0. 0. 1.]\n",
      "After iter 57: [0. 0. 1.]\n",
      "After iter 58: [0. 0. 1.]\n",
      "After iter 59: [0. 0. 1.]\n",
      "After iter 60: [0. 0. 1.]\n",
      "After iter 61: [0. 0. 1.]\n",
      "After iter 62: [0. 0. 1.]\n",
      "After iter 63: [0. 0. 1.]\n",
      "After iter 64: [0. 0. 1.]\n",
      "After iter 65: [0. 0. 1.]\n",
      "After iter 66: [0. 0. 1.]\n",
      "After iter 67: [0. 0. 1.]\n",
      "After iter 68: [0. 0. 1.]\n",
      "After iter 69: [0. 0. 1.]\n",
      "After iter 70: [0. 0. 1.]\n",
      "After iter 71: [0. 0. 1.]\n",
      "After iter 72: [0. 0. 1.]\n",
      "After iter 73: [0. 0. 1.]\n",
      "After iter 74: [0. 0. 1.]\n",
      "After iter 75: [0. 0. 1.]\n",
      "After iter 76: [0. 0. 1.]\n",
      "After iter 77: [0. 0. 1.]\n",
      "After iter 78: [0. 0. 1.]\n",
      "After iter 79: [0. 0. 1.]\n",
      "After iter 80: [0. 0. 1.]\n",
      "After iter 81: [0. 0. 1.]\n",
      "After iter 82: [0. 0. 1.]\n",
      "After iter 83: [0. 0. 1.]\n",
      "After iter 84: [0. 0. 1.]\n",
      "After iter 85: [0. 0. 1.]\n",
      "After iter 86: [0. 0. 1.]\n",
      "After iter 87: [0. 0. 1.]\n",
      "After iter 88: [0. 0. 1.]\n",
      "After iter 89: [0. 0. 1.]\n",
      "After iter 90: [0. 0. 1.]\n",
      "After iter 91: [0. 0. 1.]\n",
      "After iter 92: [0. 0. 1.]\n",
      "After iter 93: [0. 0. 1.]\n",
      "After iter 94: [0. 0. 1.]\n",
      "After iter 95: [0. 0. 1.]\n",
      "After iter 96: [0. 0. 1.]\n",
      "After iter 97: [0. 0. 1.]\n",
      "After iter 98: [0. 0. 1.]\n",
      "After iter 99: [0. 0. 1.]\n",
      "After iter 100: [0. 0. 1.]\n"
     ]
    }
   ],
   "source": [
    "r_res = page_rank(M, tax=1.0, n_iter=100)"
   ]
  },
  {
   "cell_type": "code",
   "execution_count": 5,
   "metadata": {},
   "outputs": [],
   "source": [
    "a, b, c = r_res[0], r_res[1], r_res[2]"
   ]
  },
  {
   "cell_type": "code",
   "execution_count": 6,
   "metadata": {},
   "outputs": [
    {
     "name": "stdout",
     "output_type": "stream",
     "text": [
      "0.0 0.14999999999999997\n",
      "0.0 0.8999999999999999\n",
      "0.8499999999999999 0.0\n",
      "0.0 0.9999999999999999\n"
     ]
    }
   ],
   "source": [
    "print(b, 0.575*a + 0.15*c)\n",
    "print(0.95*a, 0.9*c + 0.05*b)\n",
    "print(0.85*c, b + 0.575*a)\n",
    "print(a, c + 0.15*b)"
   ]
  },
  {
   "cell_type": "code",
   "execution_count": 7,
   "metadata": {},
   "outputs": [],
   "source": [
    "def ts_page_rank(M, tax, S=None, n_iter=1, E=None):\n",
    "    \"\"\"\n",
    "    Parameters\n",
    "    ---------\n",
    "        M : array of shape=(n, n), connectivity matrix.\n",
    "        tax : amound of tax, \n",
    "            that is the probability of random walking. 1-tax is the probability that it jumps to some node in S.\n",
    "        S : array of shape=(n,), with ones indicating nodes in topic set.\n",
    "        n_iter : int, number of iterations\n",
    "        E : epsilon, min difference between previous and current rank vector to proceed the next iteration\n",
    "    \"\"\"\n",
    "    r = np.ones(shape=M.shape[0]) / M.shape[0]\n",
    "    r_new = np.zeros_like(r)\n",
    "    \n",
    "    if S is None:\n",
    "        S = np.ones(shape=M.shape[0])\n",
    "    S = S / np.sum(S)\n",
    "    \n",
    "    for i in range(n_iter):\n",
    "        r_new = tax * M@r + (1-tax) * S\n",
    "        print(f'After iter {i+1}: {r_new}')\n",
    "        \n",
    "        # check convergance\n",
    "        if E is not None:\n",
    "            if len(np.nonzero(r - r_new < E)[0]) == len(r):\n",
    "                print(f'Converged after {i+1} iterations')\n",
    "                break\n",
    "        \n",
    "        r = r_new\n",
    "        \n",
    "    return r"
   ]
  },
  {
   "cell_type": "code",
   "execution_count": 8,
   "metadata": {},
   "outputs": [
    {
     "name": "stdout",
     "output_type": "stream",
     "text": [
      "After iter 1: [0.05       0.19166667 0.75833333]\n",
      "After iter 2: [0.05    0.07125 0.87875]\n",
      "After iter 3: [0.05    0.07125 0.87875]\n",
      "Converged after 3 iterations\n"
     ]
    }
   ],
   "source": [
    "r_res = ts_page_rank(M, tax=0.85, n_iter=10, E=0.001)"
   ]
  },
  {
   "cell_type": "code",
   "execution_count": 9,
   "metadata": {},
   "outputs": [],
   "source": [
    "def hubs_authorities(M, tax, n_iter=1, E=None):\n",
    "    n = M.shape[0]\n",
    "    a = np.ones(shape=n)\n",
    "    h = np.ones(shape=n)\n",
    "    e = np.ones(shape=n) / n\n",
    "    # initialize\n",
    "    a = a / np.sqrt(n)\n",
    "    h = h / np.sqrt(n)\n",
    "    A = tax * M + (1-tax) * e\n",
    "    \n",
    "    for i in range(n_iter):\n",
    "        # calc new values\n",
    "        h_new = A@a\n",
    "        a_new = A.T@h\n",
    "        \n",
    "        # normalize\n",
    "        h_new = h_new / np.sum(h_new)\n",
    "        a_new = a_new / np.sum(a_new)\n",
    "         \n",
    "        print(f'After iter {i+1}: hub scores: {h_new}, auth scores: {a_new}')\n",
    "        \n",
    "        # check convergance\n",
    "        if E is not None:\n",
    "            if len(np.nonzero((h - h_new)**2 < E)[0]) == len(h) and len(np.nonzero((a - a_new)**2 < E)[0]) == len(a):\n",
    "                print(f'Converged after {i+1} iterations')\n",
    "                break\n",
    "        \n",
    "        h = h_new\n",
    "        a = a_new\n",
    "        \n",
    "    return h, a\n",
    "    "
   ]
  },
  {
   "cell_type": "code",
   "execution_count": 10,
   "metadata": {},
   "outputs": [
    {
     "name": "stdout",
     "output_type": "stream",
     "text": [
      "After iter 1: hub scores: [0.5        0.33333333 0.16666667], auth scores: [0.33333333 0.33333333 0.33333333]\n",
      "After iter 2: hub scores: [0.5        0.33333333 0.16666667], auth scores: [0.35714286 0.28571429 0.35714286]\n",
      "Converged after 2 iterations\n"
     ]
    },
    {
     "data": {
      "text/plain": [
       "(array([0.5       , 0.33333333, 0.16666667]),\n",
       " array([0.33333333, 0.33333333, 0.33333333]))"
      ]
     },
     "execution_count": 10,
     "metadata": {},
     "output_type": "execute_result"
    }
   ],
   "source": [
    "tax = 1.0\n",
    "M = np.array([[1.0, 1.0, 1.0],\n",
    "              [1.0, 0.0, 1.0],\n",
    "              [0.0, 1.0, 0.0]])\n",
    "\n",
    "hubs_authorities(M, tax=tax, n_iter=3, E=0.01)"
   ]
  },
  {
   "cell_type": "markdown",
   "metadata": {},
   "source": [
    "# Pearson"
   ]
  },
  {
   "cell_type": "code",
   "execution_count": 11,
   "metadata": {},
   "outputs": [],
   "source": [
    "import numpy as np\n",
    "from scipy.spatial.distance import cosine\n",
    "\n",
    "def pearson(u, v):\n",
    "    non_missing_u = np.nonzero(u > 0)[0]\n",
    "    non_missing_v = np.nonzero(v > 0)[0]\n",
    "    \n",
    "    avg_u = np.sum(u) / len(non_missing_u)\n",
    "    avg_v = np.sum(v) / len(non_missing_v)\n",
    "    print(f'avg_u: {avg_u}')\n",
    "    print(f'avg_v: {avg_v}')\n",
    "    \n",
    "    u[non_missing_u] = u[non_missing_u] - avg_u\n",
    "    v[non_missing_v] = v[non_missing_v] - avg_v\n",
    "    print(f'u: {u}')\n",
    "    print(f'v: {v}')\n",
    "    return 1 - cosine(u, v)"
   ]
  },
  {
   "cell_type": "code",
   "execution_count": 12,
   "metadata": {},
   "outputs": [
    {
     "name": "stdout",
     "output_type": "stream",
     "text": [
      "avg_u: 3.0\n",
      "avg_v: 2.0\n",
      "u: [ 1.  0.  1.  0.  0. -2.]\n",
      "v: [ 2. -1.  0.  0.  0. -1.]\n"
     ]
    },
    {
     "data": {
      "text/plain": [
       "0.6666666666666666"
      ]
     },
     "execution_count": 12,
     "metadata": {},
     "output_type": "execute_result"
    }
   ],
   "source": [
    "a = np.array([4.0, 3.0, 4.0, 0.0, 0.0, 1.0])\n",
    "b = np.array([4.0, 1.0, 2.0, 2.0, 0.0, 1.0])\n",
    "pearson(a, b)"
   ]
  },
  {
   "cell_type": "code",
   "execution_count": 13,
   "metadata": {},
   "outputs": [
    {
     "name": "stdout",
     "output_type": "stream",
     "text": [
      "avg_u: 3.0\n",
      "avg_v: 2.6666666666666665\n",
      "u: [ 1.  0.  1.  0.  0. -2.]\n",
      "v: [ 1.33333333  0.          0.          0.33333333 -1.66666667  0.        ]\n"
     ]
    },
    {
     "data": {
      "text/plain": [
       "0.25197631533948495"
      ]
     },
     "execution_count": 13,
     "metadata": {},
     "output_type": "execute_result"
    }
   ],
   "source": [
    "a = np.array([4.0, 3.0, 4.0, 0.0, 0.0, 1.0])\n",
    "c = np.array([4.0, 0.0, 0.0, 3.0, 1.0, 0.0])\n",
    "pearson(a, c)"
   ]
  },
  {
   "cell_type": "markdown",
   "metadata": {},
   "source": [
    "# Text mining"
   ]
  },
  {
   "cell_type": "markdown",
   "metadata": {},
   "source": [
    "TF"
   ]
  },
  {
   "cell_type": "code",
   "execution_count": 14,
   "metadata": {},
   "outputs": [],
   "source": [
    "TF = np.array([[1, 0, 1, 0, 1, 0, 1, 0, 0],\n",
    "               [1, 0, 0, 0, 1, 1, 1, 1, 0],\n",
    "               [0, 0, 0, 0, 1, 1, 1, 0, 1],\n",
    "               [1, 1, 0, 1, 1, 0, 0, 0, 1]])\n",
    "\n",
    "q = np.array([0, 0, 0, 0, 0, 1, 1, 0, 0])"
   ]
  },
  {
   "cell_type": "code",
   "execution_count": 15,
   "metadata": {},
   "outputs": [],
   "source": [
    "def tf_cos(TF, q):\n",
    "    for i in range(len(TF)):\n",
    "        print(1 - cosine(TF[i], q))"
   ]
  },
  {
   "cell_type": "code",
   "execution_count": 16,
   "metadata": {},
   "outputs": [
    {
     "name": "stdout",
     "output_type": "stream",
     "text": [
      "0.35355339059327373\n",
      "0.6324555320336758\n",
      "0.7071067811865476\n",
      "0.0\n"
     ]
    }
   ],
   "source": [
    "tf_cos(TF, q)"
   ]
  },
  {
   "cell_type": "markdown",
   "metadata": {},
   "source": [
    "TF-IDF"
   ]
  },
  {
   "cell_type": "code",
   "execution_count": 28,
   "metadata": {},
   "outputs": [
    {
     "data": {
      "text/plain": [
       "array([[0.288, 0.   , 1.386, 0.   , 0.   , 0.   , 0.288, 0.   , 0.   ],\n",
       "       [0.288, 0.   , 0.   , 0.   , 0.   , 0.693, 0.288, 1.386, 0.   ],\n",
       "       [0.   , 0.   , 0.   , 0.   , 0.   , 0.693, 0.288, 0.   , 0.693],\n",
       "       [0.288, 1.386, 0.   , 1.386, 0.   , 0.   , 0.   , 0.   , 0.693]],\n",
       "      dtype=float32)"
      ]
     },
     "execution_count": 28,
     "metadata": {},
     "output_type": "execute_result"
    }
   ],
   "source": [
    "import numpy as np\n",
    "\n",
    "N = TF.shape[0]\n",
    "n = np.array([np.sum(TF[:, i]) for i in range(TF.shape[1])])\n",
    "\n",
    "TF_IDF = np.ones_like(TF, dtype=np.float32)\n",
    "\n",
    "for i in range(TF.shape[0]):\n",
    "    for j in range(TF.shape[1]):\n",
    "        \n",
    "        tf = TF[i, j]\n",
    "        idf = np.log(N / n[j])\n",
    "        \n",
    "        TF_IDF[i, j]= round(tf * idf, 3)\n",
    "\n",
    "        \n",
    "TF_IDF"
   ]
  },
  {
   "cell_type": "code",
   "execution_count": 42,
   "metadata": {},
   "outputs": [
    {
     "data": {
      "text/plain": [
       "array([0.       , 0.       , 0.       , 0.       , 0.       , 0.6931472,\n",
       "       0.2876821, 0.       , 0.       ], dtype=float32)"
      ]
     },
     "execution_count": 42,
     "metadata": {},
     "output_type": "execute_result"
    }
   ],
   "source": [
    "q_tfidf = np.array([q[i] * np.log(N / n[i]) for i in range(len(q))], dtype=np.float32)\n",
    "q_tfidf"
   ]
  },
  {
   "cell_type": "code",
   "execution_count": 45,
   "metadata": {},
   "outputs": [],
   "source": [
    "def tfidf_cos(TF_IDF, q_tfidf):\n",
    "\n",
    "    for i in range(len(TF_IDF)):\n",
    "        \n",
    "        print(1 - cosine(TF_IDF[i], q_tfidf))"
   ]
  },
  {
   "cell_type": "code",
   "execution_count": 46,
   "metadata": {},
   "outputs": [
    {
     "name": "stdout",
     "output_type": "stream",
     "text": [
      "0.07642218470573425\n",
      "0.46838653087615967\n",
      "0.7346736192703247\n",
      "0.0\n"
     ]
    }
   ],
   "source": [
    "tfidf_cos(TF_IDF, q_tfidf)"
   ]
  },
  {
   "cell_type": "code",
   "execution_count": null,
   "metadata": {},
   "outputs": [],
   "source": []
  }
 ],
 "metadata": {
  "kernelspec": {
   "display_name": "Python 3",
   "language": "python",
   "name": "python3"
  },
  "language_info": {
   "codemirror_mode": {
    "name": "ipython",
    "version": 3
   },
   "file_extension": ".py",
   "mimetype": "text/x-python",
   "name": "python",
   "nbconvert_exporter": "python",
   "pygments_lexer": "ipython3",
   "version": "3.6.3"
  }
 },
 "nbformat": 4,
 "nbformat_minor": 2
}
