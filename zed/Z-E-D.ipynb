{
 "cells": [
  {
   "cell_type": "code",
   "execution_count": 1,
   "metadata": {},
   "outputs": [],
   "source": [
    "import numpy as np"
   ]
  },
  {
   "cell_type": "code",
   "execution_count": 22,
   "metadata": {},
   "outputs": [],
   "source": [
    "B = 0.7\n",
    "M = np.array([[0.0, 0.5, 1.0, 0.2, 0.0, 0.0],\n",
    "              [0.0, 0.0, 0.0, 0.2, 0.0, 0.0],\n",
    "              [0.0, 0.5, 0.0, 0.2, 1/3, 0.0],\n",
    "              [0.0, 0.0, 0.0, 0.0, 1/3, 0.5],\n",
    "              [0.0, 0.0, 0.0, 0.2, 0.0, 0.5],\n",
    "              [0.0, 0.0, 0.0, 0.2, 1/3, 0.0]])"
   ]
  },
  {
   "cell_type": "code",
   "execution_count": 25,
   "metadata": {},
   "outputs": [],
   "source": [
    "def page_rank(M, tax, n_iter=100, E=None):\n",
    "    \"\"\"\n",
    "    Parameters\n",
    "    ---------\n",
    "        M : array of shape=(n, n), connectivity matrix.\n",
    "        tax : amound of tax, for example 0.8\n",
    "        E : epsilon, min difference between previous and current rank vector to proceed the next iteration\n",
    "    \"\"\"\n",
    "    r = np.ones(shape=M.shape[0])# / M.shape[0] # uncoment if initialization with 1/n\n",
    "    r_new = np.zeros_like(r)\n",
    "    e = np.ones_like(r) / M.shape[0]\n",
    "    \n",
    "    for i in range(n_iter):\n",
    "        r_new = tax * M@r + (1-tax) * e\n",
    "        print(f'After iter {i+1}: {r}')\n",
    "        \n",
    "        # check convergance\n",
    "        if E is not None:\n",
    "            if len(np.nonzero(r - r_new < E)[0]) == len(r):\n",
    "                print(f'Converged after {i+1} iterations')\n",
    "                break\n",
    "        \n",
    "        r = r_new\n",
    "        \n",
    "    return r"
   ]
  },
  {
   "cell_type": "code",
   "execution_count": 26,
   "metadata": {},
   "outputs": [
    {
     "name": "stdout",
     "output_type": "stream",
     "text": [
      "After iter 1: [ 1.  1.  1.  1.  1.  1.]\n",
      "After iter 2: [ 1.7         0.2         1.03333333  0.83333333  0.7         0.53333333]\n",
      "After iter 3: [ 1.3         0.16666667  0.5         0.5         0.43333333  0.4       ]\n",
      "After iter 4: [ 0.68333333  0.1         0.32777778  0.34444444  0.3         0.24444444]\n",
      "After iter 5: [ 0.44666667  0.06888889  0.21888889  0.22222222  0.19111111  0.16888889]\n"
     ]
    }
   ],
   "source": [
    "r_res = page_rank(M, tax=1.0, n_iter=5)"
   ]
  },
  {
   "cell_type": "code",
   "execution_count": 27,
   "metadata": {},
   "outputs": [],
   "source": [
    "a, b, c = r_res[0], r_res[1], r_res[2]"
   ]
  },
  {
   "cell_type": "code",
   "execution_count": 28,
   "metadata": {},
   "outputs": [
    {
     "name": "stdout",
     "output_type": "stream",
     "text": [
      "0.0444444444444 0.192611111111\n",
      "0.282888888889 0.130555555556\n",
      "0.121203703704 0.215666666667\n",
      "0.297777777778 0.149259259259\n"
     ]
    }
   ],
   "source": [
    "print(b, 0.575*a + 0.15*c)\n",
    "print(0.95*a, 0.9*c + 0.05*b)\n",
    "print(0.85*c, b + 0.575*a)\n",
    "print(a, c + 0.15*b)"
   ]
  },
  {
   "cell_type": "code",
   "execution_count": 29,
   "metadata": {},
   "outputs": [],
   "source": [
    "def ts_page_rank(M, tax, S=None, n_iter=1, E=None):\n",
    "    \"\"\"\n",
    "    Parameters\n",
    "    ---------\n",
    "        M : array of shape=(n, n), connectivity matrix.\n",
    "        tax : amound of tax, \n",
    "            that is the probability of random walking. 1-tax is the probability that it jumps to some node in S.\n",
    "        S : array of shape=(n,), with ones indicating nodes in topic set.\n",
    "        n_iter : int, number of iterations\n",
    "        E : epsilon, min difference between previous and current rank vector to proceed the next iteration\n",
    "    \"\"\"\n",
    "    r = np.ones(shape=M.shape[0]) / M.shape[0]\n",
    "    r_new = np.zeros_like(r)\n",
    "    \n",
    "    if S is None:\n",
    "        S = np.ones(shape=M.shape[0])\n",
    "    S = S / np.sum(S)\n",
    "    \n",
    "    for i in range(n_iter):\n",
    "        r_new = tax * M@r + (1-tax) * S\n",
    "        print(f'After iter {i+1}: {r_new}')\n",
    "        \n",
    "        # check convergance\n",
    "        if E is not None:\n",
    "            if len(np.nonzero(r - r_new < E)[0]) == len(r):\n",
    "                print(f'Converged after {i+1} iterations')\n",
    "                break\n",
    "        \n",
    "        r = r_new\n",
    "        \n",
    "    return r"
   ]
  },
  {
   "cell_type": "code",
   "execution_count": 30,
   "metadata": {},
   "outputs": [
    {
     "name": "stdout",
     "output_type": "stream",
     "text": [
      "After iter 1: [ 0.26583333  0.05333333  0.17138889  0.14305556  0.12416667  0.10055556]\n",
      "After iter 2: [ 0.21766667  0.04931944  0.10716667  0.10291667  0.09205556  0.0845    ]\n",
      "After iter 3: [ 0.15454826  0.04249583  0.089539    0.08699491  0.07840833  0.06857824]\n",
      "After iter 4: [ 0.13395802  0.03978913  0.08006556  0.07636145  0.06893489  0.06200483]\n",
      "After iter 5: [ 0.12294755  0.03798145  0.07442338  0.0708836   0.0643335   0.057513  ]\n",
      "After iter 6: [ 0.1164522   0.03705021  0.07142015  0.06767085  0.06149324  0.05527804]\n",
      "After iter 7: [ 0.11295751  0.03650404  0.06967347  0.06591625  0.05999721  0.05392713]\n",
      "After iter 8: [ 0.11094243  0.03620576  0.06871919  0.06491824  0.05912479  0.05320497]\n",
      "After iter 9: [ 0.10983486  0.0360361   0.06817557  0.06436414  0.05864821  0.05278812]\n",
      "After iter 10: [ 0.10920648  0.0359419   0.06787424  0.06405195  0.05837686  0.0525589 ]\n",
      "Converged after 10 iterations\n"
     ]
    }
   ],
   "source": [
    "r_res = ts_page_rank(M, tax=0.85, n_iter=10, E=0.001)"
   ]
  },
  {
   "cell_type": "code",
   "execution_count": 10,
   "metadata": {},
   "outputs": [],
   "source": [
    "def hubs_authorities(M, tax, n_iter=1, E=None):\n",
    "    n = M.shape[0]\n",
    "    a = np.ones(shape=n)\n",
    "    h = np.ones(shape=n)\n",
    "    e = np.ones(shape=n) / n\n",
    "    # initialize\n",
    "    a = a / np.sqrt(n)\n",
    "    h = h / np.sqrt(n)\n",
    "    A = tax * M + (1-tax) * e\n",
    "    \n",
    "    for i in range(n_iter):\n",
    "        # calc new values\n",
    "        h_new = A@a\n",
    "        a_new = A.T@h\n",
    "        \n",
    "        # normalize\n",
    "        h_new = h_new / np.sum(h_new)\n",
    "        a_new = a_new / np.sum(a_new)\n",
    "         \n",
    "        print(f'After iter {i+1}: hub scores: {h_new}, auth scores: {a_new}')\n",
    "        \n",
    "        # check convergance\n",
    "        if E is not None:\n",
    "            if len(np.nonzero((h - h_new)**2 < E)[0]) == len(h) and len(np.nonzero((a - a_new)**2 < E)[0]) == len(a):\n",
    "                print(f'Converged after {i+1} iterations')\n",
    "                break\n",
    "        \n",
    "        h = h_new\n",
    "        a = a_new\n",
    "        \n",
    "    return h, a\n",
    "    "
   ]
  },
  {
   "cell_type": "code",
   "execution_count": 11,
   "metadata": {},
   "outputs": [
    {
     "name": "stdout",
     "output_type": "stream",
     "text": [
      "After iter 1: hub scores: [ 0.5         0.33333333  0.16666667], auth scores: [ 0.33333333  0.33333333  0.33333333]\n",
      "After iter 2: hub scores: [ 0.5         0.33333333  0.16666667], auth scores: [ 0.35714286  0.28571429  0.35714286]\n",
      "Converged after 2 iterations\n"
     ]
    },
    {
     "data": {
      "text/plain": [
       "(array([ 0.5       ,  0.33333333,  0.16666667]),\n",
       " array([ 0.33333333,  0.33333333,  0.33333333]))"
      ]
     },
     "execution_count": 11,
     "metadata": {},
     "output_type": "execute_result"
    }
   ],
   "source": [
    "tax = 1.0\n",
    "M = np.array([[1.0, 1.0, 1.0],\n",
    "              [1.0, 0.0, 1.0],\n",
    "              [0.0, 1.0, 0.0]])\n",
    "\n",
    "hubs_authorities(M, tax=tax, n_iter=3, E=0.01)"
   ]
  },
  {
   "cell_type": "markdown",
   "metadata": {},
   "source": [
    "# Pearson"
   ]
  },
  {
   "cell_type": "code",
   "execution_count": 12,
   "metadata": {},
   "outputs": [],
   "source": [
    "import numpy as np\n",
    "from scipy.spatial.distance import cosine\n",
    "\n",
    "def pearson(u, v):\n",
    "    non_missing_u = np.nonzero(u > 0)[0]\n",
    "    non_missing_v = np.nonzero(v > 0)[0]\n",
    "    \n",
    "    avg_u = np.sum(u) / len(non_missing_u)\n",
    "    avg_v = np.sum(v) / len(non_missing_v)\n",
    "    print(f'avg_u: {avg_u}')\n",
    "    print(f'avg_v: {avg_v}')\n",
    "    \n",
    "    u[non_missing_u] = u[non_missing_u] - avg_u\n",
    "    v[non_missing_v] = v[non_missing_v] - avg_v\n",
    "    print(f'u: {u}')\n",
    "    print(f'v: {v}')\n",
    "    return 1 - cosine(u, v)"
   ]
  },
  {
   "cell_type": "code",
   "execution_count": 13,
   "metadata": {},
   "outputs": [
    {
     "name": "stdout",
     "output_type": "stream",
     "text": [
      "avg_u: 3.0\n",
      "avg_v: 2.0\n",
      "u: [ 1.  0.  1.  0.  0. -2.]\n",
      "v: [ 2. -1.  0.  0.  0. -1.]\n"
     ]
    },
    {
     "data": {
      "text/plain": [
       "0.66666666666666663"
      ]
     },
     "execution_count": 13,
     "metadata": {},
     "output_type": "execute_result"
    }
   ],
   "source": [
    "a = np.array([4.0, 3.0, 4.0, 0.0, 0.0, 1.0])\n",
    "b = np.array([4.0, 1.0, 2.0, 2.0, 0.0, 1.0])\n",
    "pearson(a, b)"
   ]
  },
  {
   "cell_type": "code",
   "execution_count": 14,
   "metadata": {},
   "outputs": [
    {
     "name": "stdout",
     "output_type": "stream",
     "text": [
      "avg_u: 3.0\n",
      "avg_v: 2.6666666666666665\n",
      "u: [ 1.  0.  1.  0.  0. -2.]\n",
      "v: [ 1.33333333  0.          0.          0.33333333 -1.66666667  0.        ]\n"
     ]
    },
    {
     "data": {
      "text/plain": [
       "0.25197631533948495"
      ]
     },
     "execution_count": 14,
     "metadata": {},
     "output_type": "execute_result"
    }
   ],
   "source": [
    "a = np.array([4.0, 3.0, 4.0, 0.0, 0.0, 1.0])\n",
    "c = np.array([4.0, 0.0, 0.0, 3.0, 1.0, 0.0])\n",
    "pearson(a, c)"
   ]
  },
  {
   "cell_type": "markdown",
   "metadata": {},
   "source": [
    "# Text mining"
   ]
  },
  {
   "cell_type": "markdown",
   "metadata": {},
   "source": [
    "TF"
   ]
  },
  {
   "cell_type": "code",
   "execution_count": 15,
   "metadata": {},
   "outputs": [],
   "source": [
    "TF = np.array([[1, 0, 1, 0, 1, 0, 1, 0, 0],\n",
    "               [1, 0, 0, 0, 1, 1, 1, 1, 0],\n",
    "               [0, 0, 0, 0, 1, 1, 1, 0, 1],\n",
    "               [1, 1, 0, 1, 1, 0, 0, 0, 1]])\n",
    "\n",
    "q = np.array([0, 0, 0, 0, 0, 1, 1, 0, 0])"
   ]
  },
  {
   "cell_type": "code",
   "execution_count": 16,
   "metadata": {},
   "outputs": [],
   "source": [
    "def tf_cos(TF, q):\n",
    "    for i in range(len(TF)):\n",
    "        print(1 - cosine(TF[i], q))"
   ]
  },
  {
   "cell_type": "code",
   "execution_count": 17,
   "metadata": {},
   "outputs": [
    {
     "name": "stdout",
     "output_type": "stream",
     "text": [
      "0.353553390593\n",
      "0.632455532034\n",
      "0.707106781187\n",
      "0.0\n"
     ]
    }
   ],
   "source": [
    "tf_cos(TF, q)"
   ]
  },
  {
   "cell_type": "markdown",
   "metadata": {},
   "source": [
    "TF-IDF"
   ]
  },
  {
   "cell_type": "code",
   "execution_count": 18,
   "metadata": {},
   "outputs": [
    {
     "data": {
      "text/plain": [
       "array([[ 0.28799999,  0.        ,  1.38600004,  0.        ,  0.        ,\n",
       "         0.        ,  0.28799999,  0.        ,  0.        ],\n",
       "       [ 0.28799999,  0.        ,  0.        ,  0.        ,  0.        ,\n",
       "         0.69300002,  0.28799999,  1.38600004,  0.        ],\n",
       "       [ 0.        ,  0.        ,  0.        ,  0.        ,  0.        ,\n",
       "         0.69300002,  0.28799999,  0.        ,  0.69300002],\n",
       "       [ 0.28799999,  1.38600004,  0.        ,  1.38600004,  0.        ,\n",
       "         0.        ,  0.        ,  0.        ,  0.69300002]], dtype=float32)"
      ]
     },
     "execution_count": 18,
     "metadata": {},
     "output_type": "execute_result"
    }
   ],
   "source": [
    "import numpy as np\n",
    "\n",
    "N = TF.shape[0]\n",
    "n = np.array([np.sum(TF[:, i]) for i in range(TF.shape[1])])\n",
    "\n",
    "TF_IDF = np.ones_like(TF, dtype=np.float32)\n",
    "\n",
    "for i in range(TF.shape[0]):\n",
    "    for j in range(TF.shape[1]):\n",
    "        \n",
    "        tf = TF[i, j]\n",
    "        idf = np.log(N / n[j])\n",
    "        \n",
    "        TF_IDF[i, j]= round(tf * idf, 3)\n",
    "\n",
    "        \n",
    "TF_IDF"
   ]
  },
  {
   "cell_type": "code",
   "execution_count": 19,
   "metadata": {},
   "outputs": [
    {
     "data": {
      "text/plain": [
       "array([ 0.        ,  0.        ,  0.        ,  0.        ,  0.        ,\n",
       "        0.69314718,  0.28768209,  0.        ,  0.        ], dtype=float32)"
      ]
     },
     "execution_count": 19,
     "metadata": {},
     "output_type": "execute_result"
    }
   ],
   "source": [
    "q_tfidf = np.array([q[i] * np.log(N / n[i]) for i in range(len(q))], dtype=np.float32)\n",
    "q_tfidf"
   ]
  },
  {
   "cell_type": "code",
   "execution_count": 20,
   "metadata": {},
   "outputs": [],
   "source": [
    "def tfidf_cos(TF_IDF, q_tfidf):\n",
    "\n",
    "    for i in range(len(TF_IDF)):\n",
    "        \n",
    "        print(1 - cosine(TF_IDF[i], q_tfidf))"
   ]
  },
  {
   "cell_type": "code",
   "execution_count": 21,
   "metadata": {},
   "outputs": [
    {
     "name": "stdout",
     "output_type": "stream",
     "text": [
      "0.0764221847057\n",
      "0.468386530876\n",
      "0.73467361927\n",
      "0.0\n"
     ]
    }
   ],
   "source": [
    "tfidf_cos(TF_IDF, q_tfidf)"
   ]
  },
  {
   "cell_type": "code",
   "execution_count": null,
   "metadata": {},
   "outputs": [],
   "source": []
  }
 ],
 "metadata": {
  "kernelspec": {
   "display_name": "Python 3",
   "language": "python",
   "name": "python3"
  },
  "language_info": {
   "codemirror_mode": {
    "name": "ipython",
    "version": 3
   },
   "file_extension": ".py",
   "mimetype": "text/x-python",
   "name": "python",
   "nbconvert_exporter": "python",
   "pygments_lexer": "ipython3",
   "version": "3.6.3"
  }
 },
 "nbformat": 4,
 "nbformat_minor": 2
}
