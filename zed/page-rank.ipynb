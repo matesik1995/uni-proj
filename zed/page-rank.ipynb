{
 "cells": [
  {
   "cell_type": "code",
   "execution_count": 1,
   "metadata": {},
   "outputs": [],
   "source": [
    "import numpy as np"
   ]
  },
  {
   "cell_type": "code",
   "execution_count": 2,
   "metadata": {},
   "outputs": [],
   "source": [
    "B = 0.7\n",
    "M = np.array([[0.0, 0.0, 0.0],\n",
    "              [0.5, 0.0, 0.0],\n",
    "              [0.5, 1.0, 1.0]])"
   ]
  },
  {
   "cell_type": "code",
   "execution_count": 5,
   "metadata": {},
   "outputs": [],
   "source": [
    "def page_rank(M, tax, n_iter=10, E=None):\n",
    "    \"\"\"\n",
    "    Parameters\n",
    "    ---------\n",
    "        M : array of shape=(n, n), connectivity matrix.\n",
    "        tax : amound of tax, for example 0.8\n",
    "        E : epsilon, min difference between previous and current rank vector to proceed the next iteration\n",
    "    \"\"\"\n",
    "    r = np.ones(shape=M.shape[0]) / M.shape[0]\n",
    "    r_new = np.zeros_like(r)\n",
    "    e = np.ones_like(r) / M.shape[0]\n",
    "    \n",
    "    for i in range(n_iter):\n",
    "        r_new = tax * M@r + (1-tax) * e\n",
    "        print(f'After iter {i+1}: {r}')\n",
    "        \n",
    "        # check convergance\n",
    "        if E is not None:\n",
    "            if len(np.nonzero(r - r_new < E)[0]) == len(r):\n",
    "                print(f'Converged after {i+1} iterations')\n",
    "                break\n",
    "        \n",
    "        r = r_new\n",
    "        \n",
    "    return r"
   ]
  },
  {
   "cell_type": "code",
   "execution_count": 6,
   "metadata": {},
   "outputs": [
    {
     "name": "stdout",
     "output_type": "stream",
     "text": [
      "After iter 1: [ 0.33333333  0.33333333  0.33333333]\n",
      "After iter 2: [ 0.          0.16666667  0.83333333]\n",
      "After iter 3: [ 0.  0.  1.]\n",
      "After iter 4: [ 0.  0.  1.]\n",
      "After iter 5: [ 0.  0.  1.]\n",
      "After iter 6: [ 0.  0.  1.]\n",
      "After iter 7: [ 0.  0.  1.]\n",
      "After iter 8: [ 0.  0.  1.]\n",
      "After iter 9: [ 0.  0.  1.]\n",
      "After iter 10: [ 0.  0.  1.]\n"
     ]
    }
   ],
   "source": [
    "r_res = page_rank(M, tax=1.0, n_iter=10)"
   ]
  },
  {
   "cell_type": "code",
   "execution_count": 7,
   "metadata": {},
   "outputs": [],
   "source": [
    "a, b, c = r_res[0], r_res[1], r_res[2]"
   ]
  },
  {
   "cell_type": "code",
   "execution_count": 8,
   "metadata": {},
   "outputs": [
    {
     "name": "stdout",
     "output_type": "stream",
     "text": [
      "0.0 0.15\n",
      "0.0 0.9\n",
      "0.85 0.0\n",
      "0.0 1.0\n"
     ]
    }
   ],
   "source": [
    "print(b, 0.575*a + 0.15*c)\n",
    "print(0.95*a, 0.9*c + 0.05*b)\n",
    "print(0.85*c, b + 0.575*a)\n",
    "print(a, c + 0.15*b)"
   ]
  },
  {
   "cell_type": "code",
   "execution_count": 9,
   "metadata": {},
   "outputs": [],
   "source": [
    "def ts_page_rank(M, tax, S=None, n_iter=1, E=None):\n",
    "    \"\"\"\n",
    "    Parameters\n",
    "    ---------\n",
    "        M : array of shape=(n, n), connectivity matrix.\n",
    "        tax : amound of tax, \n",
    "            that is the probability of random walking. 1-tax is the probability that it jumps to some node in S.\n",
    "        S : array of shape=(n,), with ones indicating nodes in topic set.\n",
    "        n_iter : int, number of iterations\n",
    "        E : epsilon, min difference between previous and current rank vector to proceed the next iteration\n",
    "    \"\"\"\n",
    "    r = np.ones(shape=M.shape[0]) / M.shape[0]\n",
    "    r_new = np.zeros_like(r)\n",
    "    \n",
    "    if S is None:\n",
    "        S = np.ones(shape=M.shape[0])\n",
    "    S = S / np.sum(S)\n",
    "    \n",
    "    for i in range(n_iter):\n",
    "        r_new = tax * M@r + (1-tax) * S\n",
    "        print(f'After iter {i+1}: {r_new}')\n",
    "        \n",
    "        # check convergance\n",
    "        if E is not None:\n",
    "            if len(np.nonzero(r - r_new < E)[0]) == len(r):\n",
    "                print(f'Converged after {i+1} iterations')\n",
    "                break\n",
    "        \n",
    "        r = r_new\n",
    "        \n",
    "    return r"
   ]
  },
  {
   "cell_type": "code",
   "execution_count": 10,
   "metadata": {},
   "outputs": [
    {
     "name": "stdout",
     "output_type": "stream",
     "text": [
      "After iter 1: [ 0.05        0.19166667  0.75833333]\n",
      "After iter 2: [ 0.05     0.07125  0.87875]\n",
      "After iter 3: [ 0.05     0.07125  0.87875]\n",
      "Converged after 3 iterations\n"
     ]
    }
   ],
   "source": [
    "r_res = ts_page_rank(M, tax=0.85, n_iter=10, E=0.001)"
   ]
  },
  {
   "cell_type": "code",
   "execution_count": 11,
   "metadata": {},
   "outputs": [],
   "source": [
    "def hubs_authorities(M, tax, n_iter=1, E=None):\n",
    "    n = M.shape[0]\n",
    "    a = np.ones(shape=n)\n",
    "    h = np.ones(shape=n)\n",
    "    e = np.ones(shape=n) / n\n",
    "    # initialize\n",
    "    a = a / np.sqrt(n)\n",
    "    h = h / np.sqrt(n)\n",
    "    A = tax * M + (1-tax) * e\n",
    "    \n",
    "    for i in range(n_iter):\n",
    "        # calc new values\n",
    "        h_new = A@a\n",
    "        a_new = A.T@h\n",
    "        \n",
    "        # normalize\n",
    "        h_new = h_new / np.sum(h_new)\n",
    "        a_new = a_new / np.sum(a_new)\n",
    "         \n",
    "        print(f'After iter {i+1}: hub scores: {h_new}, auth scores: {a_new}')\n",
    "        \n",
    "        # check convergance\n",
    "        if E is not None:\n",
    "            if len(np.nonzero((h - h_new)**2 < E)[0]) == len(h) and len(np.nonzero((a - a_new)**2 < E)[0]) == len(a):\n",
    "                print(f'Converged after {i+1} iterations')\n",
    "                break\n",
    "        \n",
    "        h = h_new\n",
    "        a = a_new\n",
    "        \n",
    "    return h, a\n",
    "    "
   ]
  },
  {
   "cell_type": "code",
   "execution_count": 12,
   "metadata": {},
   "outputs": [
    {
     "name": "stdout",
     "output_type": "stream",
     "text": [
      "After iter 1: hub scores: [ 0.5         0.33333333  0.16666667], auth scores: [ 0.33333333  0.33333333  0.33333333]\n",
      "After iter 2: hub scores: [ 0.5         0.33333333  0.16666667], auth scores: [ 0.35714286  0.28571429  0.35714286]\n",
      "Converged after 2 iterations\n"
     ]
    },
    {
     "data": {
      "text/plain": [
       "(array([ 0.5       ,  0.33333333,  0.16666667]),\n",
       " array([ 0.33333333,  0.33333333,  0.33333333]))"
      ]
     },
     "execution_count": 12,
     "metadata": {},
     "output_type": "execute_result"
    }
   ],
   "source": [
    "tax = 1.0\n",
    "M = np.array([[1.0, 1.0, 1.0],\n",
    "              [1.0, 0.0, 1.0],\n",
    "              [0.0, 1.0, 0.0]])\n",
    "\n",
    "hubs_authorities(M, tax=tax, n_iter=3, E=0.01)"
   ]
  },
  {
   "cell_type": "markdown",
   "metadata": {},
   "source": [
    "Pearson"
   ]
  },
  {
   "cell_type": "code",
   "execution_count": null,
   "metadata": {},
   "outputs": [],
   "source": []
  }
 ],
 "metadata": {
  "kernelspec": {
   "display_name": "Python 3",
   "language": "python",
   "name": "python3"
  },
  "language_info": {
   "codemirror_mode": {
    "name": "ipython",
    "version": 3
   },
   "file_extension": ".py",
   "mimetype": "text/x-python",
   "name": "python",
   "nbconvert_exporter": "python",
   "pygments_lexer": "ipython3",
   "version": "3.6.3"
  }
 },
 "nbformat": 4,
 "nbformat_minor": 2
}
